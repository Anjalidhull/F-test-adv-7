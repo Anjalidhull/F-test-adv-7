{
 "cells": [
  {
   "cell_type": "code",
   "execution_count": 5,
   "id": "14adb917-930f-4a7a-82a9-98a5f74cebe3",
   "metadata": {},
   "outputs": [],
   "source": [
    "from scipy import stats\n",
    "import numpy as np"
   ]
  },
  {
   "cell_type": "code",
   "execution_count": null,
   "id": "44865a3c-0b48-458a-930a-7dc5af044e21",
   "metadata": {},
   "outputs": [],
   "source": [
    "Q1. Write a Python function that takes in two arrays of data and calculates the F-value for a variance ratio\n",
    "test. The function should return the F-value and the corresponding p-value for the test.\n",
    "Q2. Given a significance level of 0.05 and the degrees of freedom for the numerator and denominator of an\n",
    "F-distribution, write a Python function that returns the critical F-value for a two-tailed test.\n",
    "Q3. Write a Python program that generates random samples from two normal distributions with known\n",
    "\n",
    "variances and uses an F-test to determine if the variances are equal. The program should output the F-\n",
    "value, degrees of freedom, and p-value for the test.\n",
    "\n",
    "Q4.The variances of two populations are known to be 10 and 15. A sample of 12 observations is taken from\n",
    "each population. Conduct an F-test at the 5% significance level to determine if the variances are\n",
    "significantly different.\n",
    "Q5. A manufacturer claims that the variance of the diameter of a certain product is 0.005. A sample of 25\n",
    "products is taken, and the sample variance is found to be 0.006. Conduct an F-test at the 1% significance\n",
    "level to determine if the claim is justified.\n",
    "Q6. Write a Python function that takes in the degrees of freedom for the numerator and denominator of an\n",
    "F-distribution and calculates the mean and variance of the distribution. The function should return the\n",
    "mean and variance as a tuple.\n",
    "Q7. A random sample of 10 measurements is taken from a normal population with unknown variance. The\n",
    "sample variance is found to be 25. Another random sample of 15 measurements is taken from another\n",
    "normal population with unknown variance, and the sample variance is found to be 20. Conduct an F-test\n",
    "at the 10% significance level to determine if the variances are significantly different.\n",
    "Q8. The following data represent the waiting times in minutes at two different restaurants on a Saturday\n",
    "night: Restaurant A: 24, 25, 28, 23, 22, 20, 27; Restaurant B: 31, 33, 35, 30, 32, 36. Conduct an F-test at the 5%\n",
    "significance level to determine if the variances are significantly different.\n",
    "Q9. The following data represent the test scores of two groups of students: Group A: 80, 85, 90, 92, 87, 83;\n",
    "Group B: 75, 78, 82, 79, 81, 84. Conduct an F-test at the 1% significance level to determine if the variances\n",
    "are significantly different."
   ]
  },
  {
   "cell_type": "code",
   "execution_count": null,
   "id": "dc4a985f-6f49-49a7-86c0-53a6607d5ce5",
   "metadata": {},
   "outputs": [],
   "source": [
    "Q1. Write a Python function that takes in two arrays of data and calculates the F-value for a variance ratio\n",
    "test. The function should return the F-value and the corresponding p-value for the test."
   ]
  },
  {
   "cell_type": "code",
   "execution_count": 6,
   "id": "818832e1-d1fb-4880-a8e1-def5e46af3c8",
   "metadata": {},
   "outputs": [
    {
     "name": "stdout",
     "output_type": "stream",
     "text": [
      "F-value: 1.0365853658536583\n",
      "p-value: 0.4865283953946601\n"
     ]
    }
   ],
   "source": [
    "def var_ratio_test(arr1,arr2):\n",
    "    var1=np.var(arr1,ddof=1)\n",
    "    var2=np.var(arr2,ddof=1)\n",
    "    f_value=var1/var2\n",
    "    \n",
    "    # Degrees of freedom\n",
    "    df1 = len(arr1) - 1\n",
    "    df2 = len(arr2) - 1\n",
    "    \n",
    "    # Calculate the p-value using the F-distribution\n",
    "    p_value = 1 - stats.f.cdf(f_value, df1, df2)\n",
    "    \n",
    "    return f_value, p_value\n",
    "\n",
    "arr1=[2,3,4,7,9]\n",
    "arr2=[3,7,1,8,5]\n",
    "f_value, p_value = var_ratio_test(arr1, arr2)\n",
    "\n",
    "print(\"F-value:\", f_value)\n",
    "print(\"p-value:\", p_value)  \n",
    "    "
   ]
  },
  {
   "cell_type": "code",
   "execution_count": null,
   "id": "9bc68a7d-31e4-4825-afdc-05fe17245eeb",
   "metadata": {},
   "outputs": [],
   "source": [
    "Q2. Given a significance level of 0.05 and the degrees of freedom for the numerator and denominator of an\n",
    "F-distribution, write a Python function that returns the critical F-value for a two-tailed test."
   ]
  },
  {
   "cell_type": "code",
   "execution_count": 4,
   "id": "15754671-f8e7-456f-bfd5-fe116841222d",
   "metadata": {},
   "outputs": [
    {
     "name": "stdout",
     "output_type": "stream",
     "text": [
      "Critical F-value: 4.07682306196248\n"
     ]
    }
   ],
   "source": [
    "# significance level\n",
    "alpha=0.05\n",
    "\n",
    "def critical_f_value(alpha, df_num, df_den):\n",
    "     # Calculate the critical F-value for a two-tailed test\n",
    "    critical_value = stats.f.ppf(1 - alpha/2, df_num, df_den)\n",
    "    return critical_value\n",
    "\n",
    "# Example usage\n",
    "alpha = 0.05\n",
    "df_num = 3  # Degrees of freedom for numerator\n",
    "df_den = 16  # Degrees of freedom for denominator\n",
    "critical_val = critical_f_value(alpha, df_num, df_den)\n",
    "print(\"Critical F-value:\", critical_val)\n"
   ]
  },
  {
   "cell_type": "code",
   "execution_count": null,
   "id": "7b31565f-f910-4dc9-904a-3ddf0a305024",
   "metadata": {},
   "outputs": [],
   "source": [
    "Q3. Write a Python program that generates random samples from two normal distributions with known\n",
    "\n",
    "variances and uses an F-test to determine if the variances are equal. The program should output the F-\n",
    "value, degrees of freedom, and p-value for the test."
   ]
  },
  {
   "cell_type": "code",
   "execution_count": 7,
   "id": "6ef5af31-af5a-4935-907f-0afeafc155c6",
   "metadata": {},
   "outputs": [
    {
     "name": "stdout",
     "output_type": "stream",
     "text": [
      "F-value: 1.1927829548233562\n",
      "Degrees of freedom (numerator): 19\n",
      "Degrees of freedom (denominator): 24\n",
      "p-value: 0.6750153388568323\n"
     ]
    }
   ],
   "source": [
    "import numpy as np\n",
    "from scipy.stats import f\n",
    "\n",
    "def f_test_equal_variances(data1, data2):\n",
    "    # Calculate the sample variances\n",
    "    var1 = np.var(data1, ddof=1)\n",
    "    var2 = np.var(data2, ddof=1)\n",
    "    \n",
    "    # Calculate the F-value\n",
    "    f_value = var1 / var2\n",
    "    \n",
    "    # Degrees of freedom\n",
    "    df1 = len(data1) - 1\n",
    "    df2 = len(data2) - 1\n",
    "    \n",
    "    # Calculate the p-value using the F-distribution\n",
    "    p_value = 2 * min(f.cdf(f_value, df1, df2), 1 - f.cdf(f_value, df1, df2))\n",
    "    \n",
    "    return f_value, df1, df2, p_value\n",
    "\n",
    "# Parameters\n",
    "mean1 = 0\n",
    "std1 = 1\n",
    "sample_size1 = 20\n",
    "\n",
    "mean2 = 0\n",
    "std2 = 1.5\n",
    "sample_size2 = 25\n",
    "\n",
    "# Generate random samples from normal distributions\n",
    "data1 = np.random.normal(mean1, std1, sample_size1)\n",
    "data2 = np.random.normal(mean2, std2, sample_size2)\n",
    "\n",
    "# Perform F-test for equal variances\n",
    "f_value, df1, df2, p_value = f_test_equal_variances(data1, data2)\n",
    "\n",
    "# Output results\n",
    "print(\"F-value:\", f_value)\n",
    "print(\"Degrees of freedom (numerator):\", df1)\n",
    "print(\"Degrees of freedom (denominator):\", df2)\n",
    "print(\"p-value:\", p_value)\n",
    "\n",
    "\n",
    "\n"
   ]
  },
  {
   "cell_type": "code",
   "execution_count": null,
   "id": "87fea71d-2511-4c3b-ba96-aeccde3973ca",
   "metadata": {},
   "outputs": [],
   "source": [
    "Q4.The variances of two populations are known to be 10 and 15. A sample of 12 observations is taken from\n",
    "each population. Conduct an F-test at the 5% significance level to determine if the variances are\n",
    "significantly different."
   ]
  },
  {
   "cell_type": "code",
   "execution_count": 8,
   "id": "1cbaf1c0-69df-49f2-a28f-e60e97798d70",
   "metadata": {},
   "outputs": [
    {
     "name": "stdout",
     "output_type": "stream",
     "text": [
      "F-value: 0.7195363956186425\n",
      "Degrees of freedom (numerator): 19\n",
      "Degrees of freedom (denominator): 24\n",
      "p-value: 0.46793361232253405\n",
      "Result: Fail to reject null hypothesis (variances are not significantly different)\n"
     ]
    }
   ],
   "source": [
    "# given data\n",
    "var1=10\n",
    "var2=15\n",
    "\n",
    "# sample size\n",
    "s1=12\n",
    "s2=12\n",
    "#significance value\n",
    "alpha=0.05\n",
    "\n",
    "\n",
    "# Generate random samples for demonstration (replace with actual data)\n",
    "np.random.seed(42)  # For reproducibility\n",
    "data1 = np.random.normal(0, np.sqrt(var1), sample_size1)\n",
    "data2 = np.random.normal(0, np.sqrt(var2), sample_size2)\n",
    "\n",
    "# Calculate the sample variances\n",
    "sample_variance1 = np.var(data1, ddof=1)\n",
    "sample_variance2 = np.var(data2, ddof=1)\n",
    "\n",
    "f_value=sample_variance1/sample_variance2\n",
    "\n",
    "# Degrees of freedom\n",
    "df1 = sample_size1 - 1\n",
    "df2 = sample_size2 - 1\n",
    "\n",
    "# Calculate the p-value using the F-distribution\n",
    "p_value = 2 * min(f.cdf(f_value, df1, df2), 1 - f.cdf(f_value, df1, df2))\n",
    "\n",
    "# Compare p-value with significance level\n",
    "if p_value < alpha:\n",
    "    result = \"Reject null hypothesis (variances are significantly different)\"\n",
    "else:\n",
    "    result = \"Fail to reject null hypothesis (variances are not significantly different)\"\n",
    "\n",
    "# Output results\n",
    "print(\"F-value:\", f_value)\n",
    "print(\"Degrees of freedom (numerator):\", df1)\n",
    "print(\"Degrees of freedom (denominator):\", df2)\n",
    "print(\"p-value:\", p_value)\n",
    "print(\"Result:\", result)\n",
    "\n"
   ]
  },
  {
   "cell_type": "code",
   "execution_count": null,
   "id": "06cfec24-f06e-48dd-8b2c-cdf8e7741708",
   "metadata": {},
   "outputs": [],
   "source": [
    "Q5. A manufacturer claims that the variance of the diameter of a certain product is 0.005. A sample of 25\n",
    "products is taken, and the sample variance is found to be 0.006. Conduct an F-test at the 1% significance\n",
    "level to determine if the claim is justified."
   ]
  },
  {
   "cell_type": "code",
   "execution_count": 9,
   "id": "c71e4bcb-9085-4459-a639-d8fc58a7f33b",
   "metadata": {},
   "outputs": [
    {
     "name": "stdout",
     "output_type": "stream",
     "text": [
      "F-value: 1.2\n",
      "Degrees of freedom (numerator): 24\n",
      "Degrees of freedom (denominator): 24\n",
      "p-value: 0.6587309365634488\n",
      "Result: Fail to reject null hypothesis (variance claim is justified)\n"
     ]
    }
   ],
   "source": [
    "var=0.005\n",
    "sample_size=25\n",
    "sample_variance=0.006\n",
    "alpha=0.01\n",
    "\n",
    "f_value=sample_variance/var\n",
    "\n",
    "df1=sample_size-1\n",
    "df2=sample_size-1\n",
    "\n",
    "p_value=2 * min(f.cdf(f_value, df1, df2), 1 - f.cdf(f_value, df1, df2))\n",
    "\n",
    "# Compare p-value with significance level\n",
    "if p_value < alpha:\n",
    "    result = \"Reject null hypothesis (variance claim is not justified)\"\n",
    "else:\n",
    "    result = \"Fail to reject null hypothesis (variance claim is justified)\"\n",
    "\n",
    "# Output results\n",
    "print(\"F-value:\", f_value)\n",
    "print(\"Degrees of freedom (numerator):\", df1)\n",
    "print(\"Degrees of freedom (denominator):\", df2)\n",
    "print(\"p-value:\", p_value)\n",
    "print(\"Result:\", result)"
   ]
  },
  {
   "cell_type": "code",
   "execution_count": null,
   "id": "ab6b1e96-1d35-469e-9760-3ce5f852f0cf",
   "metadata": {},
   "outputs": [],
   "source": [
    "Q6. Write a Python function that takes in the degrees of freedom for the numerator and denominator of an\n",
    "F-distribution and calculates the mean and variance of the distribution. The function should return the\n",
    "mean and variance as a tuple."
   ]
  },
  {
   "cell_type": "code",
   "execution_count": 13,
   "id": "3c201a28-c6e0-471d-bf38-08604a3b0890",
   "metadata": {},
   "outputs": [
    {
     "name": "stdout",
     "output_type": "stream",
     "text": [
      "(1.25, 1.3541666666666667)\n"
     ]
    }
   ],
   "source": [
    "def calculate(dfn,dfd):\n",
    "    # Calculate the mean of the F-distribution\n",
    "    mean = dfd / (dfd - 2)\n",
    "    \n",
    "    # Calculate the variance of the F-distribution\n",
    "    variance = (2 * (dfd**2) * (dfn + dfd - 2)) / (dfn * (dfd - 2)**2 * (dfd - 4))\n",
    "    \n",
    "    return mean, variance\n",
    "# Example usage\n",
    "df_num = 5  # Degrees of freedom for numerator\n",
    "df_den = 10  # Degrees of freedom for denominator\n",
    "mean, variance = calculate(df_num, df_den)\n",
    "print((mean,variance)) "
   ]
  },
  {
   "cell_type": "code",
   "execution_count": null,
   "id": "7c10a49f-7dbb-4561-b34b-d2204c8c3eed",
   "metadata": {},
   "outputs": [],
   "source": [
    "Q7. A random sample of 10 measurements is taken from a normal population with unknown variance. The\n",
    "sample variance is found to be 25. Another random sample of 15 measurements is taken from another\n",
    "normal population with unknown variance, and the sample variance is found to be 20. Conduct an F-test\n",
    "at the 10% significance level to determine if the variances are significantly different."
   ]
  },
  {
   "cell_type": "code",
   "execution_count": 14,
   "id": "aa3a8a88-61d7-40bb-bb7e-157dfb065aab",
   "metadata": {},
   "outputs": [
    {
     "name": "stdout",
     "output_type": "stream",
     "text": [
      "F-value: 1.25\n",
      "Degrees of freedom (numerator): 9\n",
      "Degrees of freedom (denominator): 14\n",
      "p-value: 0.6832194382585954\n",
      "Result: Fail to reject null hypothesis (variance  are significantly different.)\n"
     ]
    }
   ],
   "source": [
    "sample_size1=10\n",
    "sample_variance1=25\n",
    "sample_size2=15\n",
    "sample_variance2=20\n",
    "alpha=0.10\n",
    "\n",
    "df1=sample_size1-1\n",
    "df2=sample_size2-1\n",
    "\n",
    "f_value=sample_variance1/sample_variance2\n",
    "\n",
    "p_value=2 * min(f.cdf(f_value, df1, df2), 1 - f.cdf(f_value, df1, df2))\n",
    "\n",
    "if p_value < alpha:\n",
    "    result = \"Reject null hypothesis (variance are  significantly different.)\"\n",
    "else:\n",
    "    result = \"Fail to reject null hypothesis (variance  are not significantly different.)\"\n",
    "#outputs\n",
    "print(\"F-value:\", f_value)\n",
    "print(\"Degrees of freedom (numerator):\", df1)\n",
    "print(\"Degrees of freedom (denominator):\", df2)\n",
    "print(\"p-value:\", p_value)\n",
    "print(\"Result:\", result)"
   ]
  },
  {
   "cell_type": "code",
   "execution_count": null,
   "id": "9920fbf1-6ca9-44c9-b99a-623bd2f777da",
   "metadata": {},
   "outputs": [],
   "source": [
    "Q8. The following data represent the waiting times in minutes at two different restaurants on a Saturday\n",
    "night: Restaurant A: 24, 25, 28, 23, 22, 20, 27; Restaurant B: 31, 33, 35, 30, 32, 36. Conduct an F-test at the 5%\n",
    "significance level to determine if the variances are significantly different."
   ]
  },
  {
   "cell_type": "code",
   "execution_count": 30,
   "id": "75518209-c829-4c49-bc2c-3aa1a646b029",
   "metadata": {},
   "outputs": [
    {
     "name": "stdout",
     "output_type": "stream",
     "text": [
      "Fail to reject null hypothesis (variances are not significantly different)\n"
     ]
    }
   ],
   "source": [
    "Restaurant_A=[24,25,28,23,22,20,27]\n",
    "Restaurant_B=[31,33,35,30,32,36]\n",
    "\n",
    "alpha=0.05\n",
    "var1=np.var(Restaurant_A,ddof=1)\n",
    "var2=np.var(Restaurant_B,ddof=2)\n",
    "\n",
    "f_value=var2/var1\n",
    "#degree of freedom\n",
    "df1=6\n",
    "df2=5\n",
    "\n",
    "f_critical=stats.f.ppf(1 - alpha / 2,df2,df1)\n",
    "\n",
    "if f_value > f_critical:\n",
    "    print( \"Reject null hypothesis (variances are significantly different)\")\n",
    "else:\n",
    "    print( \"Fail to reject null hypothesis (variances are not significantly different)\")\n",
    "\n"
   ]
  },
  {
   "cell_type": "code",
   "execution_count": null,
   "id": "3b8b6aa3-1c6e-4ed2-8a7b-eedf8350d5f0",
   "metadata": {},
   "outputs": [],
   "source": [
    "Q9. The following data represent the test scores of two groups of students: Group A: 80, 85, 90, 92, 87, 83;\n",
    "Group B: 75, 78, 82, 79, 81, 84. Conduct an F-test at the 1% significance level to determine if the variances\n",
    "are significantly different."
   ]
  },
  {
   "cell_type": "code",
   "execution_count": 33,
   "id": "db5da9ab-6b41-4895-8fb3-35e1014df0a2",
   "metadata": {},
   "outputs": [
    {
     "name": "stdout",
     "output_type": "stream",
     "text": [
      "Fail to reject null hypothesis (variances are not significantly different)\n"
     ]
    }
   ],
   "source": [
    "Group_A=[ 80, 85, 90, 92, 87, 83]\n",
    "Group_B=[ 75, 78, 82, 79, 81, 84]\n",
    "\n",
    "alpha=0.01\n",
    "var1=np.var(Group_A,ddof=1)\n",
    "var2=np.var(Group_B,ddof=2)\n",
    "\n",
    "f_value=var2/var1\n",
    "#degree of freedom\n",
    "df1=len(Group_A)-1\n",
    "df2=len(Group_B)--1\n",
    "\n",
    "f_critical=stats.f.ppf(1 - alpha / 2,df2,df1)\n",
    "\n",
    "\n",
    "if f_value > f_critical:\n",
    "    print( \"Reject null hypothesis (variances are significantly different)\")\n",
    "else:\n",
    "    print( \"Fail to reject null hypothesis (variances are not significantly different)\")\n",
    "\n"
   ]
  },
  {
   "cell_type": "code",
   "execution_count": null,
   "id": "0003e10d-341a-4968-bdfb-d291ea4049c9",
   "metadata": {},
   "outputs": [],
   "source": []
  }
 ],
 "metadata": {
  "kernelspec": {
   "display_name": "Python 3 (ipykernel)",
   "language": "python",
   "name": "python3"
  },
  "language_info": {
   "codemirror_mode": {
    "name": "ipython",
    "version": 3
   },
   "file_extension": ".py",
   "mimetype": "text/x-python",
   "name": "python",
   "nbconvert_exporter": "python",
   "pygments_lexer": "ipython3",
   "version": "3.10.8"
  }
 },
 "nbformat": 4,
 "nbformat_minor": 5
}
